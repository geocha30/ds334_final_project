{
  "nbformat": 4,
  "nbformat_minor": 0,
  "metadata": {
    "colab": {
      "provenance": [],
      "gpuType": "T4"
    },
    "kernelspec": {
      "name": "ir",
      "display_name": "R"
    },
    "language_info": {
      "name": "R"
    },
    "accelerator": "GPU"
  },
  "cells": [
    {
      "cell_type": "code",
      "source": [
        "install.packages(\"plotly\")\n",
        "install.packages(\"colorspace\")\n",
        "install.packages(\"broom\")\n",
        "install.packages(\"maps\")"
      ],
      "metadata": {
        "colab": {
          "base_uri": "https://localhost:8080/"
        },
        "id": "LsXkmb6_AHLg",
        "outputId": "e22027b5-0b17-4440-f519-686df9800e9f"
      },
      "execution_count": 1,
      "outputs": [
        {
          "output_type": "stream",
          "name": "stderr",
          "text": [
            "Installing package into ‘/usr/local/lib/R/site-library’\n",
            "(as ‘lib’ is unspecified)\n",
            "\n",
            "also installing the dependencies ‘later’, ‘Rcpp’, ‘htmlwidgets’, ‘lazyeval’, ‘crosstalk’, ‘promises’\n",
            "\n",
            "\n",
            "Installing package into ‘/usr/local/lib/R/site-library’\n",
            "(as ‘lib’ is unspecified)\n",
            "\n",
            "Installing package into ‘/usr/local/lib/R/site-library’\n",
            "(as ‘lib’ is unspecified)\n",
            "\n",
            "Installing package into ‘/usr/local/lib/R/site-library’\n",
            "(as ‘lib’ is unspecified)\n",
            "\n"
          ]
        }
      ]
    },
    {
      "cell_type": "code",
      "source": [
        "## Load the Materials\n",
        "library(tidyverse)\n",
        "library(plotly)\n",
        "library(broom)\n",
        "library(maps)\n",
        "library(colorspace)\n",
        "world_df <- map_data(\"world\")\n"
      ],
      "metadata": {
        "colab": {
          "base_uri": "https://localhost:8080/"
        },
        "id": "UQYdcaQmR4KY",
        "outputId": "e2e71dea-bf89-4d71-a781-0080655ce6ba"
      },
      "execution_count": 3,
      "outputs": [
        {
          "output_type": "stream",
          "name": "stderr",
          "text": [
            "── \u001b[1mAttaching core tidyverse packages\u001b[22m ──────────────────────── tidyverse 2.0.0 ──\n",
            "\u001b[32m✔\u001b[39m \u001b[34mdplyr    \u001b[39m 1.1.4     \u001b[32m✔\u001b[39m \u001b[34mreadr    \u001b[39m 2.1.5\n",
            "\u001b[32m✔\u001b[39m \u001b[34mforcats  \u001b[39m 1.0.0     \u001b[32m✔\u001b[39m \u001b[34mstringr  \u001b[39m 1.5.1\n",
            "\u001b[32m✔\u001b[39m \u001b[34mggplot2  \u001b[39m 3.4.4     \u001b[32m✔\u001b[39m \u001b[34mtibble   \u001b[39m 3.2.1\n",
            "\u001b[32m✔\u001b[39m \u001b[34mlubridate\u001b[39m 1.9.3     \u001b[32m✔\u001b[39m \u001b[34mtidyr    \u001b[39m 1.3.1\n",
            "\u001b[32m✔\u001b[39m \u001b[34mpurrr    \u001b[39m 1.0.2     \n",
            "── \u001b[1mConflicts\u001b[22m ────────────────────────────────────────── tidyverse_conflicts() ──\n",
            "\u001b[31m✖\u001b[39m \u001b[34mdplyr\u001b[39m::\u001b[32mfilter()\u001b[39m masks \u001b[34mstats\u001b[39m::filter()\n",
            "\u001b[31m✖\u001b[39m \u001b[34mdplyr\u001b[39m::\u001b[32mlag()\u001b[39m    masks \u001b[34mstats\u001b[39m::lag()\n",
            "\u001b[36mℹ\u001b[39m Use the conflicted package (\u001b[3m\u001b[34m<http://conflicted.r-lib.org/>\u001b[39m\u001b[23m) to force all conflicts to become errors\n",
            "\n",
            "Attaching package: ‘plotly’\n",
            "\n",
            "\n",
            "The following object is masked from ‘package:ggplot2’:\n",
            "\n",
            "    last_plot\n",
            "\n",
            "\n",
            "The following object is masked from ‘package:stats’:\n",
            "\n",
            "    filter\n",
            "\n",
            "\n",
            "The following object is masked from ‘package:graphics’:\n",
            "\n",
            "    layout\n",
            "\n",
            "\n",
            "\n",
            "Attaching package: ‘maps’\n",
            "\n",
            "\n",
            "The following object is masked from ‘package:purrr’:\n",
            "\n",
            "    map\n",
            "\n",
            "\n"
          ]
        }
      ]
    },
    {
      "cell_type": "code",
      "source": [
        "electricity_access <- read_csv(\"data/access_to_electricity.csv\",\n",
        "                        skip = 4) |>\n",
        "  select(-c(3:44), -c(67:69))\n",
        "\n",
        "countries <- c(\"Afghanistan\", \"Angola\", \"Bangladesh\", \"Benin\", \"Burkina Faso\", \"Burundi\", \"Cambodia\", \"Central African Republic\", \"Chad\", \"Comoros\", \"Congo, Dem. Rep.\", \"Djibouti\", \"Eritrea\", \"Ethiopia\", \"Gambia, The\", \"Guinea\", \"Guinea-Bissau\", \"Haiti\", \"Kiribati\", \"Lao PDR\", \"Lesotho\", \"Liberia\", \"Madagascar\", \"Malawi\", \"Mali\", \"Mauritania\", \"Mozambique\", \"Myanmar\", \"Nepal\", \"Niger\", \"Rwanda\", \"Sao Tome and Principe\", \"Senegal\", \"Sierra Leone\", \"Solomon Islands\", \"Somalia\", \"South Sudan\", \"Sudan\", \"Tanzania\", \"Timor-Leste\", \"Togo\", \"Tuvalu\", \"Uganda\", \"Yemen, Rep.\", \"Zambia\")\n",
        "\n",
        "electricity_stats <- electricity_access |>\n",
        "  pivot_longer(c(3:24),\n",
        "               names_to = \"Year\",\n",
        "               values_to = \"Electricity Access\") |>\n",
        "  filter(!is.na(`Electricity Access`)) |>\n",
        "  group_by(`Country Name`) |>\n",
        "  summarise(`mean_elec_access` = mean(`Electricity Access`, na.rm = TRUE),\n",
        "            `sd_elec_access` = sd(`Electricity Access`, na.rm = TRUE))\n",
        "\n",
        "underdeveloped_electricity <- electricity_access |>\n",
        "  pivot_longer(c(3:24),\n",
        "               names_to = \"Year\",\n",
        "               values_to = \"Electricity Access\") |>\n",
        "  filter(!is.na(`Electricity Access`))\n",
        "\n",
        "underdeveloped_map <- left_join(underdeveloped_electricity, world_df, by = c(\"Country Name\"=\"region\"))\n",
        "\n",
        "## plot_1 <- ggplot()+\n",
        "  ##geom_polygon(data = world_df, mapping = aes(x = long, y = lat, group = group, label = region), fill = \"grey\")+\n",
        "  #3geom_polygon(data = underdeveloped_map, mapping = aes(x = long, y = lat, group = group, fill = `Electricity Access`, label = `Country Name`))+\n",
        "  ##scale_fill_continuous_sequential(palette = \"Heat\")+\n",
        "  ##theme_minimal()\n",
        "\n",
        "##ggplotly(plot_1, tooltip = \"label\")\n",
        "\n",
        "agricultural_land <- read_csv(\"data/agricultural_land.csv\",\n",
        "                       skip = 4) |>\n",
        "  select(-c(3:44), -c(67:69))\n",
        "\n",
        "agriculture_land_stats <- agricultural_land |>\n",
        "  pivot_longer(c(3:24),\n",
        "               names_to = \"Year\",\n",
        "               values_to = \"Agricultural Land\") |>\n",
        "  filter(!is.na(`Agricultural Land`)) |>\n",
        "  group_by(`Country Name`) |>\n",
        "  summarise(`mean_agr_land` = mean(`Agricultural Land`, na.rm = TRUE),\n",
        "            `sd_agr_land` = sd(`Agricultural Land`, na.rm = TRUE))\n",
        "\n",
        "population_growth <- read_csv(\"data/population_growth.csv\",\n",
        "                            skip = 4) |>\n",
        "  select(-c(3:44), -c(67:69))\n",
        "\n",
        "population_growth_stats <- population_growth |>\n",
        "  pivot_longer(c(3:24),\n",
        "               names_to = \"Year\",\n",
        "               values_to = \"Population Growth Rate\") |>\n",
        "  filter(!is.na(`Population Growth Rate`)) |>\n",
        "  group_by(`Country Name`) |>\n",
        "  summarise(`mean_pop_growth` = mean(`Population Growth Rate`, na.rm = TRUE),\n",
        "            `sd_pop_growth` = sd(`Population Growth Rate`, na.rm = TRUE))\n",
        "\n",
        "primary_school_enrol <- read_csv(\"data/primary_school.csv\",\n",
        "          skip = 4) |>\n",
        "  select(-c(3:44), -c(67:69))\n",
        "\n",
        "primary_school_enrol_stats <- primary_school_enrol |>\n",
        "  pivot_longer(c(3:24),\n",
        "               names_to = \"Year\",\n",
        "               values_to = \"Primary School Enrollment Rate\") |>\n",
        "  filter(!is.na(`Primary School Enrollment Rate`)) |>\n",
        "  group_by(`Country Name`) |>\n",
        "  summarise(`mean_prim_school` = mean(`Primary School Enrollment Rate`, na.rm = TRUE),\n",
        "            `sd_prim_school` = sd(`Primary School Enrollment Rate`,na.rm = TRUE))\n",
        "\n",
        "total_unemployment <- read_csv(\"data/total_unemployment.csv\",\n",
        "          skip = 4) |>\n",
        "  select(-c(3:44), -c(67:69))\n",
        "\n",
        "total_unemployment_stats <- total_unemployment |>\n",
        "  pivot_longer(c(3:24),\n",
        "               names_to = \"Year\",\n",
        "               values_to = \"Total Unemployment\") |>\n",
        "  filter(!is.na(`Total Unemployment`)) |>\n",
        "  group_by(`Country Name`) |>\n",
        "  summarise(`mean_total_unempl` = mean(`Total Unemployment`, na.rm = TRUE),\n",
        "            `sd_total_unempl` = sd(`Total Unemployment`, na.rm = TRUE))\n",
        "\n",
        "sanitation <- read_csv(\"data/basic_sanitation.csv\",\n",
        "          skip = 4) |>\n",
        "  select(-c(3:44), -c(67:69))\n",
        "\n",
        "sanitation_stats <- sanitation |>\n",
        "  pivot_longer(c(3:24),\n",
        "               names_to = \"Year\",\n",
        "               values_to = \"Sanitation\") |>\n",
        "  filter(!is.na(`Sanitation`)) |>\n",
        "  group_by(`Country Name`) |>\n",
        "  summarise(`mean_sanit` = mean(`Sanitation`, na.rm = TRUE),\n",
        "            `sd_sanit` = sd(`Sanitation`, na.rm = TRUE))\n",
        "\n",
        "fertility_rate <- read_csv(\"data/fertility_rate.csv\",\n",
        "          skip = 4) |>\n",
        "  select(-c(3:44), -c(67:69))\n",
        "\n",
        "fertility_rate_stats <- fertility_rate |>\n",
        "  pivot_longer(c(3:24),\n",
        "               names_to = \"Year\",\n",
        "               values_to = \"Fertility Rate\") |>\n",
        "  filter(!is.na(`Fertility Rate`)) |>\n",
        "  group_by(`Country Name`) |>\n",
        "  summarise(`mean_fert_rate` = mean(`Fertility Rate`, na.rm = TRUE),\n",
        "            `sd_fert_rate` = sd(`Fertility Rate`, na.rm = TRUE))\n",
        "\n",
        "internet <- read_csv(\"data/internet.csv\",\n",
        "          skip = 4) |>\n",
        "  select(-c(3:44), -c(67:69))\n",
        "\n",
        "internet_stats <- internet |>\n",
        "  pivot_longer(c(3:24),\n",
        "               names_to = \"Year\",\n",
        "               values_to = \"Internet\") |>\n",
        "  filter(!is.na(`Internet`)) |>\n",
        "  group_by(`Country Name`) |>\n",
        "  summarise(`mean_inter` = mean(`Internet`, na.rm = TRUE),\n",
        "            `sd_inter` = sd(`Internet`, na.rm = TRUE))\n",
        "\n",
        "birth_life_exp <- read_csv(\"data/life_expectancy_birth.csv\",\n",
        "          skip = 4) |>\n",
        "  select(-c(3:44), -c(67:69))\n",
        "\n",
        "birth_life_exp_stats <- birth_life_exp |>\n",
        "  pivot_longer(c(3:24),\n",
        "               names_to = \"Year\",\n",
        "               values_to = \"Life Expectancy at Birth\") |>\n",
        "  filter(!is.na(`Life Expectancy at Birth`)) |>\n",
        "  group_by(`Country Name`) |>\n",
        "  summarise(`mean_life_exp` = mean(`Life Expectancy at Birth`, na.rm = TRUE),\n",
        "            `sd_life_exp` = sd(`Life Expectancy at Birth`, na.rm = TRUE))\n",
        "\n",
        "full_stats_df <- agriculture_land_stats |>\n",
        "  left_join(birth_life_exp_stats, by = \"Country Name\") |>\n",
        "  left_join(electricity_stats, by = \"Country Name\") |>\n",
        "  left_join(fertility_rate_stats, by = \"Country Name\") |>\n",
        "  left_join(internet_stats, by = \"Country Name\") |>\n",
        "  left_join(sanitation_stats, by = \"Country Name\") |>\n",
        "  left_join(population_growth_stats, by = \"Country Name\") |>\n",
        "  left_join(primary_school_enrol_stats, by = \"Country Name\") |>\n",
        "  left_join(total_unemployment_stats, by = \"Country Name\")\n",
        "\n",
        "full_stats_df <-\n",
        "  full_stats_df |>\n",
        "  mutate(Underdeveloped = ifelse(`Country Name` %in% countries, 1, 0))\n",
        "\n",
        "#### Logistic Regression Model Attempt\n",
        "\n",
        "\n",
        "# Get the means column for each variable\n",
        "# Preprocess the data\n",
        "full_means_df <- full_stats_df |>\n",
        "  select(contains(\"mean\"))\n",
        "\n",
        "# Subset the data frame to only numeric columns\n",
        "numeric_columns <- sapply(full_means_df, is.numeric)\n",
        "\n",
        "# Scale the data\n",
        "scaled_data <- scale(full_means_df[, numeric_columns])\n",
        "\n",
        "# Add the \"Underdeveloped\" column back to the scaled data\n",
        "scaled_data_with_undev <- scaled_data |>\n",
        "  as.data.frame() |>\n",
        "  mutate(Underdeveloped = full_stats_df$Underdeveloped) |>\n",
        "  na.omit()\n"
      ],
      "metadata": {
        "colab": {
          "base_uri": "https://localhost:8080/"
        },
        "id": "En6_r0i3x76O",
        "outputId": "2e1cd7da-ba03-4c9b-a9c6-7932fb3e1802"
      },
      "execution_count": 5,
      "outputs": [
        {
          "output_type": "stream",
          "name": "stderr",
          "text": [
            "\u001b[1m\u001b[22mNew names:\n",
            "\u001b[36m•\u001b[39m `` -> `...69`\n",
            "\u001b[1mRows: \u001b[22m\u001b[34m266\u001b[39m \u001b[1mColumns: \u001b[22m\u001b[34m69\u001b[39m\n",
            "\u001b[36m──\u001b[39m \u001b[1mColumn specification\u001b[22m \u001b[36m────────────────────────────────────────────────────────\u001b[39m\n",
            "\u001b[1mDelimiter:\u001b[22m \",\"\n",
            "\u001b[31mchr\u001b[39m  (4): Country Name, Country Code, Indicator Name, Indicator Code\n",
            "\u001b[32mdbl\u001b[39m (32): 1990, 1991, 1992, 1993, 1994, 1995, 1996, 1997, 1998, 1999, 2000, ...\n",
            "\u001b[33mlgl\u001b[39m (33): 1960, 1961, 1962, 1963, 1964, 1965, 1966, 1967, 1968, 1969, 1970, ...\n",
            "\n",
            "\u001b[36mℹ\u001b[39m Use `spec()` to retrieve the full column specification for this data.\n",
            "\u001b[36mℹ\u001b[39m Specify the column types or set `show_col_types = FALSE` to quiet this message.\n",
            "Warning message in left_join(underdeveloped_electricity, world_df, by = c(`Country Name` = \"region\")):\n",
            "“\u001b[1m\u001b[22mDetected an unexpected many-to-many relationship between `x` and `y`.\n",
            "\u001b[36mℹ\u001b[39m Row 1 of `x` matches multiple rows in `y`.\n",
            "\u001b[36mℹ\u001b[39m Row 1 of `y` matches multiple rows in `x`.\n",
            "\u001b[36mℹ\u001b[39m If a many-to-many relationship is expected, set `relationship =\n",
            "  \"many-to-many\"` to silence this warning.”\n",
            "\u001b[1m\u001b[22mNew names:\n",
            "\u001b[36m•\u001b[39m `` -> `...69`\n",
            "\u001b[1mRows: \u001b[22m\u001b[34m266\u001b[39m \u001b[1mColumns: \u001b[22m\u001b[34m69\u001b[39m\n",
            "\u001b[36m──\u001b[39m \u001b[1mColumn specification\u001b[22m \u001b[36m────────────────────────────────────────────────────────\u001b[39m\n",
            "\u001b[1mDelimiter:\u001b[22m \",\"\n",
            "\u001b[31mchr\u001b[39m  (4): Country Name, Country Code, Indicator Name, Indicator Code\n",
            "\u001b[32mdbl\u001b[39m (61): 1961, 1962, 1963, 1964, 1965, 1966, 1967, 1968, 1969, 1970, 1971, ...\n",
            "\u001b[33mlgl\u001b[39m  (4): 1960, 2022, 2023, ...69\n",
            "\n",
            "\u001b[36mℹ\u001b[39m Use `spec()` to retrieve the full column specification for this data.\n",
            "\u001b[36mℹ\u001b[39m Specify the column types or set `show_col_types = FALSE` to quiet this message.\n",
            "\u001b[1m\u001b[22mNew names:\n",
            "\u001b[36m•\u001b[39m `` -> `...69`\n",
            "\u001b[1mRows: \u001b[22m\u001b[34m266\u001b[39m \u001b[1mColumns: \u001b[22m\u001b[34m69\u001b[39m\n",
            "\u001b[36m──\u001b[39m \u001b[1mColumn specification\u001b[22m \u001b[36m────────────────────────────────────────────────────────\u001b[39m\n",
            "\u001b[1mDelimiter:\u001b[22m \",\"\n",
            "\u001b[31mchr\u001b[39m  (4): Country Name, Country Code, Indicator Name, Indicator Code\n",
            "\u001b[32mdbl\u001b[39m (62): 1961, 1962, 1963, 1964, 1965, 1966, 1967, 1968, 1969, 1970, 1971, ...\n",
            "\u001b[33mlgl\u001b[39m  (3): 1960, 2023, ...69\n",
            "\n",
            "\u001b[36mℹ\u001b[39m Use `spec()` to retrieve the full column specification for this data.\n",
            "\u001b[36mℹ\u001b[39m Specify the column types or set `show_col_types = FALSE` to quiet this message.\n",
            "\u001b[1m\u001b[22mNew names:\n",
            "\u001b[36m•\u001b[39m `` -> `...69`\n",
            "\u001b[1mRows: \u001b[22m\u001b[34m266\u001b[39m \u001b[1mColumns: \u001b[22m\u001b[34m69\u001b[39m\n",
            "\u001b[36m──\u001b[39m \u001b[1mColumn specification\u001b[22m \u001b[36m────────────────────────────────────────────────────────\u001b[39m\n",
            "\u001b[1mDelimiter:\u001b[22m \",\"\n",
            "\u001b[31mchr\u001b[39m  (4): Country Name, Country Code, Indicator Name, Indicator Code\n",
            "\u001b[32mdbl\u001b[39m (53): 1970, 1971, 1972, 1973, 1974, 1975, 1976, 1977, 1978, 1979, 1980, ...\n",
            "\u001b[33mlgl\u001b[39m (12): 1960, 1961, 1962, 1963, 1964, 1965, 1966, 1967, 1968, 1969, 2023, ...\n",
            "\n",
            "\u001b[36mℹ\u001b[39m Use `spec()` to retrieve the full column specification for this data.\n",
            "\u001b[36mℹ\u001b[39m Specify the column types or set `show_col_types = FALSE` to quiet this message.\n",
            "\u001b[1m\u001b[22mNew names:\n",
            "\u001b[36m•\u001b[39m `` -> `...69`\n",
            "\u001b[1mRows: \u001b[22m\u001b[34m266\u001b[39m \u001b[1mColumns: \u001b[22m\u001b[34m69\u001b[39m\n",
            "\u001b[36m──\u001b[39m \u001b[1mColumn specification\u001b[22m \u001b[36m────────────────────────────────────────────────────────\u001b[39m\n",
            "\u001b[1mDelimiter:\u001b[22m \",\"\n",
            "\u001b[31mchr\u001b[39m  (4): Country Name, Country Code, Indicator Name, Indicator Code\n",
            "\u001b[32mdbl\u001b[39m (33): 1991, 1992, 1993, 1994, 1995, 1996, 1997, 1998, 1999, 2000, 2001, ...\n",
            "\u001b[33mlgl\u001b[39m (32): 1960, 1961, 1962, 1963, 1964, 1965, 1966, 1967, 1968, 1969, 1970, ...\n",
            "\n",
            "\u001b[36mℹ\u001b[39m Use `spec()` to retrieve the full column specification for this data.\n",
            "\u001b[36mℹ\u001b[39m Specify the column types or set `show_col_types = FALSE` to quiet this message.\n",
            "\u001b[1m\u001b[22mNew names:\n",
            "\u001b[36m•\u001b[39m `` -> `...69`\n",
            "\u001b[1mRows: \u001b[22m\u001b[34m266\u001b[39m \u001b[1mColumns: \u001b[22m\u001b[34m69\u001b[39m\n",
            "\u001b[36m──\u001b[39m \u001b[1mColumn specification\u001b[22m \u001b[36m────────────────────────────────────────────────────────\u001b[39m\n",
            "\u001b[1mDelimiter:\u001b[22m \",\"\n",
            "\u001b[31mchr\u001b[39m  (4): Country Name, Country Code, Indicator Name, Indicator Code\n",
            "\u001b[32mdbl\u001b[39m (23): 2000, 2001, 2002, 2003, 2004, 2005, 2006, 2007, 2008, 2009, 2010, ...\n",
            "\u001b[33mlgl\u001b[39m (42): 1960, 1961, 1962, 1963, 1964, 1965, 1966, 1967, 1968, 1969, 1970, ...\n",
            "\n",
            "\u001b[36mℹ\u001b[39m Use `spec()` to retrieve the full column specification for this data.\n",
            "\u001b[36mℹ\u001b[39m Specify the column types or set `show_col_types = FALSE` to quiet this message.\n",
            "\u001b[1m\u001b[22mNew names:\n",
            "\u001b[36m•\u001b[39m `` -> `...69`\n",
            "\u001b[1mRows: \u001b[22m\u001b[34m266\u001b[39m \u001b[1mColumns: \u001b[22m\u001b[34m69\u001b[39m\n",
            "\u001b[36m──\u001b[39m \u001b[1mColumn specification\u001b[22m \u001b[36m────────────────────────────────────────────────────────\u001b[39m\n",
            "\u001b[1mDelimiter:\u001b[22m \",\"\n",
            "\u001b[31mchr\u001b[39m  (4): Country Name, Country Code, Indicator Name, Indicator Code\n",
            "\u001b[32mdbl\u001b[39m (62): 1960, 1961, 1962, 1963, 1964, 1965, 1966, 1967, 1968, 1969, 1970, ...\n",
            "\u001b[33mlgl\u001b[39m  (3): 2022, 2023, ...69\n",
            "\n",
            "\u001b[36mℹ\u001b[39m Use `spec()` to retrieve the full column specification for this data.\n",
            "\u001b[36mℹ\u001b[39m Specify the column types or set `show_col_types = FALSE` to quiet this message.\n",
            "\u001b[1m\u001b[22mNew names:\n",
            "\u001b[36m•\u001b[39m `` -> `...69`\n",
            "\u001b[1mRows: \u001b[22m\u001b[34m266\u001b[39m \u001b[1mColumns: \u001b[22m\u001b[34m69\u001b[39m\n",
            "\u001b[36m──\u001b[39m \u001b[1mColumn specification\u001b[22m \u001b[36m────────────────────────────────────────────────────────\u001b[39m\n",
            "\u001b[1mDelimiter:\u001b[22m \",\"\n",
            "\u001b[31mchr\u001b[39m  (4): Country Name, Country Code, Indicator Name, Indicator Code\n",
            "\u001b[32mdbl\u001b[39m (51): 1960, 1965, 1970, 1975, 1976, 1977, 1978, 1979, 1980, 1981, 1982, ...\n",
            "\u001b[33mlgl\u001b[39m (14): 1961, 1962, 1963, 1964, 1966, 1967, 1968, 1969, 1971, 1972, 1973, ...\n",
            "\n",
            "\u001b[36mℹ\u001b[39m Use `spec()` to retrieve the full column specification for this data.\n",
            "\u001b[36mℹ\u001b[39m Specify the column types or set `show_col_types = FALSE` to quiet this message.\n",
            "\u001b[1m\u001b[22mNew names:\n",
            "\u001b[36m•\u001b[39m `` -> `...69`\n",
            "\u001b[1mRows: \u001b[22m\u001b[34m266\u001b[39m \u001b[1mColumns: \u001b[22m\u001b[34m69\u001b[39m\n",
            "\u001b[36m──\u001b[39m \u001b[1mColumn specification\u001b[22m \u001b[36m────────────────────────────────────────────────────────\u001b[39m\n",
            "\u001b[1mDelimiter:\u001b[22m \",\"\n",
            "\u001b[31mchr\u001b[39m  (4): Country Name, Country Code, Indicator Name, Indicator Code\n",
            "\u001b[32mdbl\u001b[39m (62): 1960, 1961, 1962, 1963, 1964, 1965, 1966, 1967, 1968, 1969, 1970, ...\n",
            "\u001b[33mlgl\u001b[39m  (3): 2022, 2023, ...69\n",
            "\n",
            "\u001b[36mℹ\u001b[39m Use `spec()` to retrieve the full column specification for this data.\n",
            "\u001b[36mℹ\u001b[39m Specify the column types or set `show_col_types = FALSE` to quiet this message.\n"
          ]
        }
      ]
    },
    {
      "cell_type": "code",
      "source": [
        "install.packages(\"keras\")\n"
      ],
      "metadata": {
        "colab": {
          "base_uri": "https://localhost:8080/"
        },
        "id": "gViSsEvfSpyJ",
        "outputId": "7878b0d5-5284-46ff-deb4-77c4877a3839"
      },
      "execution_count": 8,
      "outputs": [
        {
          "output_type": "stream",
          "name": "stderr",
          "text": [
            "Installing package into ‘/usr/local/lib/R/site-library’\n",
            "(as ‘lib’ is unspecified)\n",
            "\n",
            "also installing the dependencies ‘RcppTOML’, ‘here’, ‘png’, ‘config’, ‘tfautograph’, ‘reticulate’, ‘tensorflow’, ‘tfruns’, ‘zeallot’\n",
            "\n",
            "\n"
          ]
        }
      ]
    },
    {
      "cell_type": "code",
      "source": [
        "install.packages(\"tensorflow\")"
      ],
      "metadata": {
        "colab": {
          "base_uri": "https://localhost:8080/"
        },
        "id": "mXq-feKUTFc-",
        "outputId": "fc8352ec-6d4f-4ed6-d2e4-90debf4a9a01"
      },
      "execution_count": 9,
      "outputs": [
        {
          "output_type": "stream",
          "name": "stderr",
          "text": [
            "Installing package into ‘/usr/local/lib/R/site-library’\n",
            "(as ‘lib’ is unspecified)\n",
            "\n"
          ]
        }
      ]
    },
    {
      "cell_type": "code",
      "source": [
        "library(tensorflow)\n",
        "library(keras)"
      ],
      "metadata": {
        "id": "hohc-cs2TKgq"
      },
      "execution_count": 10,
      "outputs": []
    },
    {
      "cell_type": "code",
      "execution_count": 42,
      "metadata": {
        "id": "UNXq2DnQxcRd"
      },
      "outputs": [],
      "source": [
        "library(tensorflow)\n",
        "library(ggplot2)\n",
        "\n",
        "# Import necessary modules\n",
        "keras <- import(\"tensorflow.keras\")\n",
        "layers <- keras$layers\n",
        "optimizers <- keras$optimizers\n",
        "losses <- keras$losses\n",
        "metrics <- keras$metrics\n",
        "\n",
        "# Split the data into training and testing sets\n",
        "set.seed(123)\n",
        "train_indices <- sample(1:nrow(scaled_data_with_undev), 0.8 * nrow(scaled_data_with_undev))\n",
        "test_indices <- setdiff(1:nrow(scaled_data_with_undev), train_indices)\n",
        "\n",
        "xtrain <- scaled_data_with_undev[train_indices, ]\n",
        "xtest <- scaled_data_with_undev[test_indices, ]\n",
        "ytrain <- scaled_data_with_undev[train_indices, ncol(scaled_data_with_undev)]  # Extract labels for training data\n",
        "ytest <- scaled_data_with_undev[test_indices, ncol(scaled_data_with_undev)]  # Extract labels for test data\n",
        "\n",
        "# Design the network\n",
        "network <- keras_model_sequential() |>\n",
        "  layer_dense(units = 8, activation = \"relu\", input_shape = c(8)) |>\n",
        "  layer_dense(units = 4, activation=\"relu\") |>\n",
        "  layer_dense(units = 5, activation=\"relu\") |>\n",
        "  layer_dense(units = 4, activation=\"relu\") |>\n",
        "  layer_dense(units = 1, activation = \"sigmoid\")"
      ]
    },
    {
      "cell_type": "code",
      "source": [
        "# Compile the model\n",
        "network |> compile(\n",
        "  optimizer = optimizers$Adam(learning_rate = 0.01),\n",
        "  loss = losses$BinaryCrossentropy(),\n",
        "  metrics = list(metrics$Accuracy())\n",
        ")"
      ],
      "metadata": {
        "id": "Rj74xW8qZB8O"
      },
      "execution_count": 43,
      "outputs": []
    },
    {
      "cell_type": "code",
      "source": [
        "summary(network)"
      ],
      "metadata": {
        "id": "YDfcSa7laI3g"
      },
      "execution_count": null,
      "outputs": []
    },
    {
      "cell_type": "code",
      "source": [
        "# Train the network\n",
        "history <- network %>% fit(\n",
        "  x = xtrain,\n",
        "  y = ytrain,\n",
        "  epochs = 100,\n",
        "  validation_split = 0.2,\n",
        "  verbose = 0\n",
        ")"
      ],
      "metadata": {
        "id": "zWo6qlY_Zysw"
      },
      "execution_count": null,
      "outputs": []
    },
    {
      "cell_type": "code",
      "source": [
        "# Plot the learning curves\n",
        "curve <- data.frame(train = history$metrics$accuracy, val = history$metrics$val_accuracy)\n",
        "\n",
        "plot <- ggplot(data = curve, aes(x = seq_along(train))) +\n",
        "  geom_line(aes(y = train, color = \"Train\")) +\n",
        "  geom_line(aes(y = val, color = \"Validation\")) +\n",
        "  scale_color_manual(values = c(\"Train\" = \"blue\", \"Validation\" = \"red\")) +\n",
        "  labs(x = \"Epoch\", y = \"Accuracy\") +\n",
        "  theme_minimal()\n",
        "\n",
        "# Evaluate the test data\n",
        "evaluation <- network %>% evaluate(x_test, ytest)\n",
        "print(evaluation)\n"
      ],
      "metadata": {
        "id": "psPosZFmZG7i"
      },
      "execution_count": null,
      "outputs": []
    },
    {
      "cell_type": "code",
      "source": [
        "install.packages(\"caret\")"
      ],
      "metadata": {
        "colab": {
          "base_uri": "https://localhost:8080/"
        },
        "id": "ndYCDcjlcVmK",
        "outputId": "9c144d5a-4e51-4c64-f1cc-bc64888e734c"
      },
      "execution_count": null,
      "outputs": [
        {
          "output_type": "stream",
          "name": "stderr",
          "text": [
            "Installing package into ‘/usr/local/lib/R/site-library’\n",
            "(as ‘lib’ is unspecified)\n",
            "\n",
            "also installing the dependencies ‘listenv’, ‘parallelly’, ‘future’, ‘globals’, ‘shape’, ‘future.apply’, ‘numDeriv’, ‘progressr’, ‘SQUAREM’, ‘diagram’, ‘lava’, ‘prodlim’, ‘proxy’, ‘iterators’, ‘clock’, ‘gower’, ‘hardhat’, ‘ipred’, ‘timeDate’, ‘e1071’, ‘foreach’, ‘ModelMetrics’, ‘plyr’, ‘pROC’, ‘recipes’, ‘reshape2’\n",
            "\n",
            "\n"
          ]
        }
      ]
    },
    {
      "cell_type": "code",
      "source": [
        "# Load the caret package\n",
        "library(caret)\n",
        "\n",
        "# Set the seed for reproducibility\n",
        "set.seed(123)\n",
        "\n",
        "# Set aside some data for testing and validation\n",
        "train_index <- createDataPartition(y, p = 0.8, list = FALSE)\n",
        "xtrain <- x[train_index, ]\n",
        "ytrain <- y[train_index]\n",
        "\n",
        "# Further split the training data into training and validation sets\n",
        "train_val_index <- createDataPartition(ytrain, p = 0.8, list = FALSE)\n",
        "xtrain <- xtrain[train_val_index, ]\n",
        "ytrain <- ytrain[train_val_index]\n",
        "xval <- xtrain[-train_val_index, ]\n",
        "yval <- ytrain[-train_val_index, ]\n",
        "\n",
        "# Standardize the features\n",
        "scaler <- preProcess(xtrain, method = c(\"center\", \"scale\"))\n",
        "xtrain <- predict(scaler, xtrain)\n",
        "xval <- predict(scaler, xval)\n",
        "xtest <- predict(scaler, xtest)\n",
        "\n",
        "# Check the shape\n",
        "dim(xtrain)\n"
      ],
      "metadata": {
        "colab": {
          "base_uri": "https://localhost:8080/",
          "height": 108
        },
        "id": "bm52JtExcTRf",
        "outputId": "c9c75c18-867a-4aa7-b753-796b29f9719a"
      },
      "execution_count": 47,
      "outputs": [
        {
          "output_type": "error",
          "ename": "ERROR",
          "evalue": "Error in library(caret): there is no package called ‘caret’\n",
          "traceback": [
            "Error in library(caret): there is no package called ‘caret’\nTraceback:\n",
            "1. library(caret)"
          ]
        }
      ]
    }
  ]
}